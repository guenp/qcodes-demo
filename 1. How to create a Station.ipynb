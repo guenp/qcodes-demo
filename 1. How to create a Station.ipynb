{
 "cells": [
  {
   "cell_type": "markdown",
   "id": "19b11437",
   "metadata": {},
   "source": [
    "# 1. How to create a Station\n",
    "In this demo, I'll show how to create a **Station**.\n",
    "\n",
    "A **Station** is a collection of **Instrument**s belonging to an experimental set-up.\n",
    "\n",
    "Each **Instrument** contains one or more **Parameter**s whose values can be \"get\" or \"set\"."
   ]
  },
  {
   "cell_type": "code",
   "execution_count": 1,
   "id": "e281fd19",
   "metadata": {},
   "outputs": [
    {
     "name": "stdout",
     "output_type": "stream",
     "text": [
      "Logging hadn't been started.\n",
      "Activating auto-logging. Current session state plus future input saved.\n",
      "Filename       : /Users/guen/.qcodes/logs/command_history.log\n",
      "Mode           : append\n",
      "Output logging : True\n",
      "Raw input log  : False\n",
      "Timestamping   : True\n",
      "State          : active\n",
      "Qcodes Logfile : /Users/guen/.qcodes/logs/211019-27154-qcodes.log\n"
     ]
    }
   ],
   "source": [
    "import qcodes as qc"
   ]
  },
  {
   "cell_type": "markdown",
   "id": "5fecb662",
   "metadata": {},
   "source": [
    "## Station config file\n",
    "\n",
    "To create a Station, you can use a YAML file that lists all of the instruments available in the setup.\n",
    "\n",
    "You can then connect to all of them or individual ones, as needed."
   ]
  },
  {
   "cell_type": "code",
   "execution_count": 2,
   "id": "dd184f64",
   "metadata": {},
   "outputs": [
    {
     "name": "stdout",
     "output_type": "stream",
     "text": [
      "Overwriting station.yml\n"
     ]
    }
   ],
   "source": [
    "%%writefile station.yml\n",
    "instruments:\n",
    "    dac:\n",
    "        type: qcodes.tests.instrument_mocks.DummyInstrument\n",
    "    dmm:\n",
    "        type: qcodes.tests.instrument_mocks.DummyInstrumentWithMeasurement"
   ]
  },
  {
   "cell_type": "code",
   "execution_count": 3,
   "id": "e8a22992",
   "metadata": {},
   "outputs": [],
   "source": [
    "station = qc.Station()\n",
    "station.load_config_file(\"station.yml\")"
   ]
  },
  {
   "cell_type": "code",
   "execution_count": 4,
   "id": "bc2ea089",
   "metadata": {},
   "outputs": [
    {
     "data": {
      "text/plain": [
       "{}"
      ]
     },
     "execution_count": 4,
     "metadata": {},
     "output_type": "execute_result"
    }
   ],
   "source": [
    "station.components"
   ]
  },
  {
   "cell_type": "markdown",
   "id": "091bac9c",
   "metadata": {},
   "source": [
    "## Loading Instruments\n",
    "\n",
    "Now that the config file is loaded, you can load the different instruments one by one.\n",
    "\n",
    "After loading the config file, new methods `station.load<instrument name>` are generated. Call these to get a handle to the particular Instrument instance."
   ]
  },
  {
   "cell_type": "code",
   "execution_count": 5,
   "id": "3065536c",
   "metadata": {},
   "outputs": [],
   "source": [
    "dac = station.load_dac(gates=[\"ch1\", \"ch2\"])"
   ]
  },
  {
   "cell_type": "code",
   "execution_count": 6,
   "id": "98e189a0",
   "metadata": {},
   "outputs": [],
   "source": [
    "dmm = station.load_dmm(setter_instr=dac)"
   ]
  },
  {
   "cell_type": "markdown",
   "id": "a3d7f081",
   "metadata": {},
   "source": [
    "## Accessing Parameters\n",
    "\n",
    "Each instrument has one or more Parameters that you can get or set. Below we'll *set* the DAC channels, then *get* the DMM."
   ]
  },
  {
   "cell_type": "code",
   "execution_count": 7,
   "id": "43eae903",
   "metadata": {},
   "outputs": [
    {
     "data": {
      "text/plain": [
       "0"
      ]
     },
     "execution_count": 7,
     "metadata": {},
     "output_type": "execute_result"
    }
   ],
   "source": [
    "dac.ch1.get()"
   ]
  },
  {
   "cell_type": "code",
   "execution_count": 8,
   "id": "c3fc541f",
   "metadata": {},
   "outputs": [],
   "source": [
    "dac.ch1.set(0.1)"
   ]
  },
  {
   "cell_type": "code",
   "execution_count": 9,
   "id": "99e90c6f",
   "metadata": {},
   "outputs": [
    {
     "data": {
      "text/plain": [
       "0.1"
      ]
     },
     "execution_count": 9,
     "metadata": {},
     "output_type": "execute_result"
    }
   ],
   "source": [
    "dac.ch1.get()"
   ]
  },
  {
   "cell_type": "code",
   "execution_count": 10,
   "id": "3a0d802e",
   "metadata": {},
   "outputs": [
    {
     "data": {
      "text/plain": [
       "4.925399127330887"
      ]
     },
     "execution_count": 10,
     "metadata": {},
     "output_type": "execute_result"
    }
   ],
   "source": [
    "dmm.v1.get()"
   ]
  },
  {
   "cell_type": "code",
   "execution_count": 11,
   "id": "31c83b91",
   "metadata": {},
   "outputs": [
    {
     "data": {
      "text/plain": [
       "0.8233855514076386"
      ]
     },
     "execution_count": 11,
     "metadata": {},
     "output_type": "execute_result"
    }
   ],
   "source": [
    "dmm.v2.get()"
   ]
  },
  {
   "cell_type": "markdown",
   "id": "afab54d7",
   "metadata": {},
   "source": [
    "You're done! This completes the first demo. Feel free to play around with the above examples.\n",
    "\n",
    "Instrument classes are also referred to as *drivers*:\n",
    "- To view all currently supported instruments, see the [QCoDeS drivers](https://qcodes.github.io/Qcodes/examples/index.html#drivers) examples.\n",
    "\n",
    "- To learn how to create your own drivers, see the [QCoDeS documentation: Writing Drivers](https://qcodes.github.io/Qcodes/examples/index.html#writing-drivers)."
   ]
  },
  {
   "cell_type": "code",
   "execution_count": null,
   "id": "dccf8538",
   "metadata": {},
   "outputs": [],
   "source": []
  }
 ],
 "metadata": {
  "kernelspec": {
   "display_name": "Python 3 (ipykernel)",
   "language": "python",
   "name": "python3"
  },
  "language_info": {
   "codemirror_mode": {
    "name": "ipython",
    "version": 3
   },
   "file_extension": ".py",
   "mimetype": "text/x-python",
   "name": "python",
   "nbconvert_exporter": "python",
   "pygments_lexer": "ipython3",
   "version": "3.7.9"
  }
 },
 "nbformat": 4,
 "nbformat_minor": 5
}
