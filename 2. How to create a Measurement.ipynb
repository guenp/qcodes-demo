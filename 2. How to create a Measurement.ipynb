{
 "cells": [
  {
   "cell_type": "markdown",
   "id": "39b313ca",
   "metadata": {},
   "source": [
    "# 2. How to create a Measurement\n",
    "In this demo, I'll show how to create a **Measurement**.\n",
    "\n",
    "To create a Measurement, you first need to create a **Database** where the data is stored.\n",
    "\n",
    "An **Experiment** is a collection of **DataSet**s, each associated with a different Measurement, that you can look up in the Database."
   ]
  },
  {
   "cell_type": "code",
   "execution_count": 1,
   "id": "d85f0a0a",
   "metadata": {},
   "outputs": [
    {
     "name": "stdout",
     "output_type": "stream",
     "text": [
      "Logging hadn't been started.\n",
      "Activating auto-logging. Current session state plus future input saved.\n",
      "Filename       : /Users/guen/.qcodes/logs/command_history.log\n",
      "Mode           : append\n",
      "Output logging : True\n",
      "Raw input log  : False\n",
      "Timestamping   : True\n",
      "State          : active\n",
      "Qcodes Logfile : /Users/guen/.qcodes/logs/211019-25969-qcodes.log\n"
     ]
    }
   ],
   "source": [
    "import qcodes as qc\n",
    "import numpy as np"
   ]
  },
  {
   "cell_type": "markdown",
   "id": "35bce127",
   "metadata": {},
   "source": [
    "## Initialize database\n",
    "\n",
    "To run a measurement and save a dataset, you'll need a database.\n",
    "\n",
    "By default, a SQlite database is created in your home directory `~/experiments.db`, but here we will add it to the current folder."
   ]
  },
  {
   "cell_type": "code",
   "execution_count": 3,
   "id": "d77d539f",
   "metadata": {},
   "outputs": [
    {
     "name": "stdout",
     "output_type": "stream",
     "text": [
      "Upgrading database; v0 -> v1: : 0it [00:00, ?it/s]\n",
      "Upgrading database; v1 -> v2: 100%|██████████████| 1/1 [00:00<00:00, 310.76it/s]\n",
      "Upgrading database; v2 -> v3: : 0it [00:00, ?it/s]\n",
      "Upgrading database; v3 -> v4: : 0it [00:00, ?it/s]\n",
      "Upgrading database; v4 -> v5: 100%|██████████████| 1/1 [00:00<00:00, 262.11it/s]\n",
      "Upgrading database; v5 -> v6: : 0it [00:00, ?it/s]\n",
      "Upgrading database; v6 -> v7: 100%|███████████████| 1/1 [00:00<00:00, 47.23it/s]\n",
      "Upgrading database; v7 -> v8: 100%|██████████████| 1/1 [00:00<00:00, 306.67it/s]\n",
      "Upgrading database; v8 -> v9: 100%|██████████████| 1/1 [00:00<00:00, 273.96it/s]\n"
     ]
    }
   ],
   "source": [
    "qc.initialise_or_create_database_at(\"./experiments.db\")"
   ]
  },
  {
   "cell_type": "markdown",
   "id": "ce06e0a3",
   "metadata": {},
   "source": [
    "## Create experiment\n",
    "\n",
    "Now, you can create an experiment. This represents a set of Measurements and associated DataSets that have a single sample name in common."
   ]
  },
  {
   "cell_type": "code",
   "execution_count": 4,
   "id": "b553a050",
   "metadata": {},
   "outputs": [],
   "source": [
    "exp = qc.load_or_create_experiment(experiment_name='My First Experiment',\n",
    "                                   sample_name=\"My Sample\")"
   ]
  },
  {
   "cell_type": "markdown",
   "id": "994762f0",
   "metadata": {},
   "source": [
    "## Load Station\n",
    "\n",
    "As described in the previous demo, now load the Station from the configuration file."
   ]
  },
  {
   "cell_type": "code",
   "execution_count": 5,
   "id": "cce1cdb1",
   "metadata": {},
   "outputs": [],
   "source": [
    "station = qc.Station()\n",
    "station.load_config_file(\"station.yml\")\n",
    "dac = station.load_dac(gates=[\"ch1\", \"ch2\"])\n",
    "dmm = station.load_dmm(setter_instr=dac)"
   ]
  },
  {
   "cell_type": "markdown",
   "id": "b1f2dca3",
   "metadata": {},
   "source": [
    "## Create and run a Measurement\n",
    "\n",
    "Let's create and run a simple measurement."
   ]
  },
  {
   "cell_type": "code",
   "execution_count": 6,
   "id": "505fb4a1",
   "metadata": {},
   "outputs": [
    {
     "name": "stdout",
     "output_type": "stream",
     "text": [
      "Starting experimental run with id: 1. \n"
     ]
    }
   ],
   "source": [
    "# Create a measurement that is associated with your experiment and station\n",
    "meas = qc.Measurement(exp=exp, station=station, name='My First Measurement')\n",
    "# register an independent parameter\n",
    "meas.register_parameter(dac.ch1)\n",
    "# now register a dependent variable that uses the independent parameter as a setpoint\n",
    "meas.register_parameter(dmm.v1, setpoints=(dac.ch1,))\n",
    "# Set the write period, this specifies how often the data is written to disk\n",
    "meas.write_period = 2\n",
    "\n",
    "# Start measurement\n",
    "with meas.run() as datasaver:\n",
    "    for set_v in np.linspace(0, 25, 10):\n",
    "        dac.ch1.set(set_v)\n",
    "        get_v = dmm.v1.get()\n",
    "        datasaver.add_result((dac.ch1, set_v),\n",
    "                             (dmm.v1, get_v))\n",
    "\n",
    "    dataset = datasaver.dataset  # convenient to have for plotting"
   ]
  },
  {
   "cell_type": "code",
   "execution_count": 7,
   "id": "ab851627",
   "metadata": {},
   "outputs": [
    {
     "data": {
      "text/plain": [
       "([<AxesSubplot:title={'center':'Run #1, Experiment My First Experiment (My Sample)'}, xlabel='Gate ch1 (V)', ylabel='Gate v1 (V)'>],\n",
       " [None])"
      ]
     },
     "execution_count": 7,
     "metadata": {},
     "output_type": "execute_result"
    },
    {
     "data": {
      "image/png": "[encoded data removed]",
      "text/plain": [
       "<Figure size 432x288 with 1 Axes>"
      ]
     },
     "metadata": {
      "needs_background": "light"
     },
     "output_type": "display_data"
    }
   ],
   "source": [
    "from qcodes.dataset.plotting import plot_dataset\n",
    "plot_dataset(dataset)"
   ]
  },
  {
   "cell_type": "code",
   "execution_count": 8,
   "id": "82996a1e",
   "metadata": {},
   "outputs": [
    {
     "data": {
      "text/plain": [
       "My First Measurement #1@/Users/guen/repos/guen/qcodes_demo/experiments.db\n",
       "-------------------------------------------------------------------------\n",
       "dac_ch1 - numeric\n",
       "dmm_v1 - numeric"
      ]
     },
     "execution_count": 8,
     "metadata": {},
     "output_type": "execute_result"
    }
   ],
   "source": [
    "dataset"
   ]
  },
  {
   "cell_type": "code",
   "execution_count": 9,
   "id": "c303723e",
   "metadata": {},
   "outputs": [
    {
     "data": {
      "text/plain": [
       "1"
      ]
     },
     "execution_count": 9,
     "metadata": {},
     "output_type": "execute_result"
    }
   ],
   "source": [
    "dataset.run_id"
   ]
  },
  {
   "cell_type": "code",
   "execution_count": 10,
   "id": "4396d161",
   "metadata": {},
   "outputs": [
    {
     "data": {
      "text/plain": [
       "My First Experiment#My Sample#1@/Users/guen/repos/guen/qcodes_demo/experiments.db\n",
       "---------------------------------------------------------------------------------\n",
       "1-My First Measurement-1-dac_ch1,dmm_v1-10"
      ]
     },
     "execution_count": 10,
     "metadata": {},
     "output_type": "execute_result"
    }
   ],
   "source": [
    "exp"
   ]
  },
  {
   "cell_type": "code",
   "execution_count": 11,
   "id": "bf4cda4e",
   "metadata": {},
   "outputs": [
    {
     "data": {
      "text/plain": [
       "My First Measurement #1@/Users/guen/repos/guen/qcodes_demo/experiments.db\n",
       "-------------------------------------------------------------------------\n",
       "dac_ch1 - numeric\n",
       "dmm_v1 - numeric"
      ]
     },
     "execution_count": 11,
     "metadata": {},
     "output_type": "execute_result"
    }
   ],
   "source": [
    "exp.data_set(1)"
   ]
  },
  {
   "cell_type": "code",
   "execution_count": 12,
   "id": "7ed2ef3e",
   "metadata": {},
   "outputs": [
    {
     "data": {
      "text/html": [
       "<div>\n",
       "<style scoped>\n",
       "    .dataframe tbody tr th:only-of-type {\n",
       "        vertical-align: middle;\n",
       "    }\n",
       "\n",
       "    .dataframe tbody tr th {\n",
       "        vertical-align: top;\n",
       "    }\n",
       "\n",
       "    .dataframe thead th {\n",
       "        text-align: right;\n",
       "    }\n",
       "</style>\n",
       "<table border=\"1\" class=\"dataframe\">\n",
       "  <thead>\n",
       "    <tr style=\"text-align: right;\">\n",
       "      <th></th>\n",
       "      <th>dmm_v1</th>\n",
       "    </tr>\n",
       "    <tr>\n",
       "      <th>dac_ch1</th>\n",
       "      <th></th>\n",
       "    </tr>\n",
       "  </thead>\n",
       "  <tbody>\n",
       "    <tr>\n",
       "      <th>0.000000</th>\n",
       "      <td>5.056538</td>\n",
       "    </tr>\n",
       "    <tr>\n",
       "      <th>2.777778</th>\n",
       "      <td>2.900492</td>\n",
       "    </tr>\n",
       "    <tr>\n",
       "      <th>5.555556</th>\n",
       "      <td>1.769761</td>\n",
       "    </tr>\n",
       "    <tr>\n",
       "      <th>8.333333</th>\n",
       "      <td>0.923373</td>\n",
       "    </tr>\n",
       "    <tr>\n",
       "      <th>11.111111</th>\n",
       "      <td>0.722125</td>\n",
       "    </tr>\n",
       "    <tr>\n",
       "      <th>13.888889</th>\n",
       "      <td>0.303392</td>\n",
       "    </tr>\n",
       "    <tr>\n",
       "      <th>16.666667</th>\n",
       "      <td>0.042592</td>\n",
       "    </tr>\n",
       "    <tr>\n",
       "      <th>19.444444</th>\n",
       "      <td>0.003936</td>\n",
       "    </tr>\n",
       "    <tr>\n",
       "      <th>22.222222</th>\n",
       "      <td>0.032926</td>\n",
       "    </tr>\n",
       "    <tr>\n",
       "      <th>25.000000</th>\n",
       "      <td>-0.051767</td>\n",
       "    </tr>\n",
       "  </tbody>\n",
       "</table>\n",
       "</div>"
      ],
      "text/plain": [
       "             dmm_v1\n",
       "dac_ch1            \n",
       "0.000000   5.056538\n",
       "2.777778   2.900492\n",
       "5.555556   1.769761\n",
       "8.333333   0.923373\n",
       "11.111111  0.722125\n",
       "13.888889  0.303392\n",
       "16.666667  0.042592\n",
       "19.444444  0.003936\n",
       "22.222222  0.032926\n",
       "25.000000 -0.051767"
      ]
     },
     "execution_count": 12,
     "metadata": {},
     "output_type": "execute_result"
    }
   ],
   "source": [
    "dataset.to_pandas_dataframe()"
   ]
  },
  {
   "cell_type": "markdown",
   "id": "d0d34eac",
   "metadata": {},
   "source": [
    "## 2D Measurement\n",
    "\n",
    "You can add any number of parameters to your measurement! The code below adds a second independent parameter, and plots it to a heatmap."
   ]
  },
  {
   "cell_type": "code",
   "execution_count": 13,
   "id": "8f87a5c7",
   "metadata": {},
   "outputs": [
    {
     "name": "stdout",
     "output_type": "stream",
     "text": [
      "Starting experimental run with id: 2. \n"
     ]
    }
   ],
   "source": [
    "meas = qc.Measurement(exp=exp, station=station, name='My First 2D Measurement')\n",
    "meas.register_parameter(dac.ch1)\n",
    "meas.register_parameter(dac.ch2)\n",
    "meas.register_parameter(dmm.v1, setpoints=(dac.ch1, dac.ch2))\n",
    "\n",
    "meas.write_period = 2\n",
    "\n",
    "with meas.run() as datasaver:\n",
    "    for set_v1 in np.linspace(0, 25, 10):\n",
    "        for set_v2 in np.linspace(0, 25, 10):\n",
    "            dac.ch1.set(set_v)\n",
    "            get_v = dmm.v1.get()\n",
    "            datasaver.add_result((dac.ch1, set_v1),\n",
    "                                 (dac.ch2, set_v2),\n",
    "                                 (dmm.v1, get_v))\n",
    "\n",
    "    dataset = datasaver.dataset  # convenient to have for plotting"
   ]
  },
  {
   "cell_type": "code",
   "execution_count": 14,
   "id": "10d68825",
   "metadata": {},
   "outputs": [
    {
     "data": {
      "text/plain": [
       "([<AxesSubplot:title={'center':'Run #2, Experiment My First Experiment (My Sample)'}, xlabel='Gate ch1 (V)', ylabel='Gate ch2 (V)'>],\n",
       " [<matplotlib.colorbar.Colorbar at 0x7fb3770be2d0>])"
      ]
     },
     "execution_count": 14,
     "metadata": {},
     "output_type": "execute_result"
    },
    {
     "data": {
      "image/png": "[encoded data removed]",
      "text/plain": [
       "<Figure size 432x288 with 2 Axes>"
      ]
     },
     "metadata": {
      "needs_background": "light"
     },
     "output_type": "display_data"
    }
   ],
   "source": [
    "plot_dataset(dataset)"
   ]
  },
  {
   "cell_type": "code",
   "execution_count": 15,
   "id": "b44e978e",
   "metadata": {
    "scrolled": false
   },
   "outputs": [
    {
     "data": {
      "application/vnd.jupyter.widget-view+json": {
       "model_id": "b2db2b73495f4f4aaa64c773652dc29b",
       "version_major": 2,
       "version_minor": 0
      },
      "text/plain": [
       "VBox(children=(HTML(value='<h1>QCoDeS experiments widget</h1>'), Tab(children=(Output(),), _titles={'0': 'Info…"
      ]
     },
     "metadata": {},
     "output_type": "display_data"
    }
   ],
   "source": [
    "from qcodes.interactive_widget import experiments_widget\n",
    "experiments_widget()"
   ]
  },
  {
   "cell_type": "code",
   "execution_count": null,
   "id": "09b4162e",
   "metadata": {},
   "outputs": [],
   "source": []
  }
 ],
 "metadata": {
  "kernelspec": {
   "display_name": "Python 3 (ipykernel)",
   "language": "python",
   "name": "python3"
  },
  "language_info": {
   "codemirror_mode": {
    "name": "ipython",
    "version": 3
   },
   "file_extension": ".py",
   "mimetype": "text/x-python",
   "name": "python",
   "nbconvert_exporter": "python",
   "pygments_lexer": "ipython3",
   "version": "3.7.9"
  }
 },
 "nbformat": 4,
 "nbformat_minor": 5
}
