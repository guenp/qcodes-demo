{
 "cells": [
  {
   "cell_type": "code",
   "execution_count": 1,
   "id": "441a1f77",
   "metadata": {
    "slideshow": {
     "slide_type": "slide"
    }
   },
   "outputs": [
    {
     "name": "stdout",
     "output_type": "stream",
     "text": [
      "Logging hadn't been started.\n",
      "Activating auto-logging. Current session state plus future input saved.\n",
      "Filename       : /Users/guen/.qcodes/logs/command_history.log\n",
      "Mode           : append\n",
      "Output logging : True\n",
      "Raw input log  : False\n",
      "Timestamping   : True\n",
      "State          : active\n",
      "Qcodes Logfile : /Users/guen/.qcodes/logs/211019-26747-qcodes.log\n"
     ]
    }
   ],
   "source": [
    "import qcodes as qc\n",
    "import numpy as np\n",
    "from qcodes.dataset.plotting import plot_dataset\n",
    "from time import time, sleep\n",
    "import tqdm"
   ]
  },
  {
   "cell_type": "code",
   "execution_count": 2,
   "id": "a35fbff4",
   "metadata": {
    "slideshow": {
     "slide_type": "slide"
    }
   },
   "outputs": [
    {
     "name": "stdout",
     "output_type": "stream",
     "text": [
      "Preparing Q# environment...\n"
     ]
    },
    {
     "data": {
      "application/x-qsharp-data": "{\"LastUpdated\":\"2021-10-19T00:52:21.7252-07:00\",\"IsCompleted\":false,\"Description\":\"Adding package Microsoft.Quantum.Chemistry\",\"Subtask\":null}",
      "text/plain": [
       "Adding package Microsoft.Quantum.Chemistry."
      ]
     },
     "metadata": {},
     "output_type": "display_data"
    },
    {
     "data": {
      "application/x-qsharp-data": "{\"LastUpdated\":\"2021-10-19T00:52:23.405881-07:00\",\"IsCompleted\":false,\"Description\":\"Reloading workspace\",\"Subtask\":null}",
      "text/plain": [
       "Reloading workspace."
      ]
     },
     "metadata": {},
     "output_type": "display_data"
    }
   ],
   "source": [
    "import qsharp\n",
    "qsharp.packages.add(\"Microsoft.Quantum.Chemistry\")\n",
    "qsharp.reload()"
   ]
  },
  {
   "cell_type": "code",
   "execution_count": 3,
   "id": "0d76a26d",
   "metadata": {
    "slideshow": {
     "slide_type": "slide"
    }
   },
   "outputs": [],
   "source": [
    "from Microsoft.Quantum.Samples.Chemistry.SimpleVQE import GetEnergyHydrogenVQE"
   ]
  },
  {
   "cell_type": "code",
   "execution_count": 4,
   "id": "4554e72d",
   "metadata": {
    "slideshow": {
     "slide_type": "slide"
    }
   },
   "outputs": [],
   "source": [
    "qc.initialise_or_create_database_at(\"./experiments.db\")\n",
    "exp = qc.load_or_create_experiment(experiment_name='VQE',\n",
    "                                sample_name=\"Q# simulator\")"
   ]
  },
  {
   "cell_type": "code",
   "execution_count": 5,
   "id": "d121018a",
   "metadata": {},
   "outputs": [
    {
     "name": "stdout",
     "output_type": "stream",
     "text": [
      "Starting experimental run with id: 4. \n"
     ]
    },
    {
     "name": "stderr",
     "output_type": "stream",
     "text": [
      "100%|███████████████████████████████████████████| 81/81 [00:19<00:00,  4.09it/s]\n"
     ]
    }
   ],
   "source": [
    "ystart, ystop, ystep = -2., 2., .5\n",
    "zstart, zstop, zstep = -2., 2., .5\n",
    "x = 0.0\n",
    "ydata = np.arange(ystart, ystop+ystep, ystep)\n",
    "zdata = np.arange(zstart, zstop+zstep, zstep)\n",
    "n_samples = 10e3\n",
    "\n",
    "# Create the initial parameters (noting that our single qubit variational form has 3 parameters)\n",
    "meas = qc.Measurement(exp=exp, station=None, name='VQE measurement')\n",
    "meas.register_custom_parameter(\"theta1\")\n",
    "meas.register_custom_parameter(\"theta2\")\n",
    "meas.register_custom_parameter(\"theta3\")\n",
    "meas.register_custom_parameter(\"energy\", setpoints=(\"theta2\", \"theta3\"))\n",
    "meas.write_period = 2 \n",
    "\n",
    "with meas.run() as datasaver:\n",
    "    values = [(x, y, z) for y in ydata for z in zdata]\n",
    "    for theta in tqdm.tqdm(values):\n",
    "        theta1, theta2, theta3 = theta\n",
    "        energy = GetEnergyHydrogenVQE(theta1=theta1, theta2=theta2, theta3=theta3, nSamples=n_samples)\n",
    "        datasaver.add_result(\n",
    "            (\"theta1\", theta1),\n",
    "            (\"theta2\", theta2),\n",
    "            (\"theta3\", theta3),\n",
    "            (\"energy\", energy)        \n",
    "        )\n",
    "        sleep(0.2)\n",
    "    dataset = datasaver.dataset  # convenient to have for plotting"
   ]
  },
  {
   "cell_type": "code",
   "execution_count": 6,
   "id": "b24e4347",
   "metadata": {},
   "outputs": [
    {
     "data": {
      "text/plain": [
       "([<AxesSubplot:title={'center':'Run #4, Experiment VQE (Q# simulator)'}, xlabel='theta2', ylabel='theta3'>],\n",
       " [<matplotlib.colorbar.Colorbar at 0x7feacb217790>])"
      ]
     },
     "execution_count": 6,
     "metadata": {},
     "output_type": "execute_result"
    },
    {
     "data": {
      "image/png": "[encoded data removed]",
      "text/plain": [
       "<Figure size 432x288 with 2 Axes>"
      ]
     },
     "metadata": {
      "needs_background": "light"
     },
     "output_type": "display_data"
    }
   ],
   "source": [
    "plot_dataset(dataset)"
   ]
  },
  {
   "cell_type": "code",
   "execution_count": 7,
   "id": "5eefa145",
   "metadata": {
    "slideshow": {
     "slide_type": "fragment"
    }
   },
   "outputs": [],
   "source": [
    "from scipy.optimize import minimize\n",
    "\n",
    "def VQE(initial_var_params, n_samples, **kwargs):\n",
    "    \"\"\" Run VQE Optimization to find the optimal energy and the associated variational parameters \"\"\"\n",
    "    \n",
    "    # Create the initial parameters (noting that our single qubit variational form has 3 parameters)\n",
    "    meas = qc.Measurement(exp=exp, station=None, name='VQE measurement')\n",
    "    meas.register_custom_parameter(\"time\")\n",
    "    meas.register_custom_parameter(\"theta1\")\n",
    "    meas.register_custom_parameter(\"theta2\")\n",
    "    meas.register_custom_parameter(\"theta3\")\n",
    "    meas.register_custom_parameter(\"energy\", setpoints=(\"time\",))\n",
    "    meas.write_period = 2 \n",
    "\n",
    "    time_start = time()\n",
    "    \n",
    "    with meas.run() as datasaver:\n",
    "        def get_data(theta, n_samples):\n",
    "            theta1, theta2, theta3 = theta\n",
    "            energy = GetEnergyHydrogenVQE(theta1=theta1, theta2=theta2, theta3=theta3, nSamples=n_samples)\n",
    "            datasaver.add_result(\n",
    "                (\"time\", time() - time_start),\n",
    "                (\"theta1\", theta1),\n",
    "                (\"theta2\", theta2),\n",
    "                (\"theta3\", theta3),\n",
    "                (\"energy\", energy)        \n",
    "            )\n",
    "            return energy\n",
    "\n",
    "        opt_result = minimize(get_data,\n",
    "                              initial_var_params,\n",
    "                              args=(n_samples),\n",
    "                              **kwargs)\n",
    "        dataset = datasaver.dataset  # convenient to have for plotting\n",
    "\n",
    "    return opt_result, dataset"
   ]
  },
  {
   "cell_type": "code",
   "execution_count": 8,
   "id": "a36a73d6",
   "metadata": {
    "slideshow": {
     "slide_type": "slide"
    }
   },
   "outputs": [
    {
     "name": "stdout",
     "output_type": "stream",
     "text": [
      "Starting experimental run with id: 5. \n"
     ]
    }
   ],
   "source": [
    "opt_result, dataset = VQE(initial_var_params=(0.0, -.5, 0.7), n_samples=10000, \n",
    "                          method=\"nelder-mead\",\n",
    "                            options={\n",
    "                              'maxiter': 200,\n",
    "                              'maxfev': None,\n",
    "                              'disp': False,\n",
    "                              'return_all': False,\n",
    "                              'initial_simplex': None,\n",
    "                              'xatol': 0.01,\n",
    "                              'fatol': 0.01,\n",
    "                              'adaptive': False\n",
    "                            })"
   ]
  },
  {
   "cell_type": "code",
   "execution_count": 9,
   "id": "9b41638f",
   "metadata": {
    "slideshow": {
     "slide_type": "slide"
    }
   },
   "outputs": [
    {
     "data": {
      "text/plain": [
       "([<AxesSubplot:title={'center':'Run #5, Experiment VQE (Q# simulator)'}, xlabel='time', ylabel='energy'>],\n",
       " [None])"
      ]
     },
     "execution_count": 9,
     "metadata": {},
     "output_type": "execute_result"
    },
    {
     "data": {
      "image/png": "[encoded data removed]",
      "text/plain": [
       "<Figure size 432x288 with 1 Axes>"
      ]
     },
     "metadata": {
      "needs_background": "light"
     },
     "output_type": "display_data"
    }
   ],
   "source": [
    "plot_dataset(dataset)"
   ]
  },
  {
   "cell_type": "code",
   "execution_count": 10,
   "id": "f6e2f02b",
   "metadata": {
    "slideshow": {
     "slide_type": "slide"
    }
   },
   "outputs": [
    {
     "name": "stdout",
     "output_type": "stream",
     "text": [
      "Starting experimental run with id: 6. \n",
      "\n",
      "   Normal return from subroutine COBYLA\n",
      "\n",
      "   NFVALS =   48   F =-3.914827E-01    MAXCV = 0.000000E+00\n",
      "   X = 1.059883E-02  -5.050520E-01   6.273222E-01\n"
     ]
    }
   ],
   "source": [
    "opt_result, dataset = VQE(\n",
    "    initial_var_params=(0.0, -.5, 0.7),\n",
    "    n_samples=10000,\n",
    "    method=\"COBYLA\",\n",
    "    tol=0.000001,\n",
    "    options={'disp': True, 'maxiter': 200,'rhobeg' : 0.01}\n",
    ")"
   ]
  },
  {
   "cell_type": "code",
   "execution_count": 11,
   "id": "db7f9a8c",
   "metadata": {},
   "outputs": [
    {
     "data": {
      "text/plain": [
       "([<AxesSubplot:title={'center':'Run #6, Experiment VQE (Q# simulator)'}, xlabel='time', ylabel='energy'>],\n",
       " [None])"
      ]
     },
     "execution_count": 11,
     "metadata": {},
     "output_type": "execute_result"
    },
    {
     "data": {
      "image/png": "[encoded data removed]",
      "text/plain": [
       "<Figure size 432x288 with 1 Axes>"
      ]
     },
     "metadata": {
      "needs_background": "light"
     },
     "output_type": "display_data"
    }
   ],
   "source": [
    "plot_dataset(dataset)"
   ]
  },
  {
   "cell_type": "code",
   "execution_count": 12,
   "id": "71c9f34d",
   "metadata": {},
   "outputs": [
    {
     "data": {
      "application/vnd.jupyter.widget-view+json": {
       "model_id": "77a42d998059470dae36da1d358a1efb",
       "version_major": 2,
       "version_minor": 0
      },
      "text/plain": [
       "VBox(children=(HTML(value='<h1>QCoDeS experiments widget</h1>'), Tab(children=(Output(),), _titles={'0': 'Info…"
      ]
     },
     "metadata": {},
     "output_type": "display_data"
    }
   ],
   "source": [
    "from qcodes.interactive_widget import experiments_widget\n",
    "experiments_widget()"
   ]
  },
  {
   "cell_type": "code",
   "execution_count": null,
   "id": "8c851060",
   "metadata": {},
   "outputs": [],
   "source": []
  }
 ],
 "metadata": {
  "kernelspec": {
   "display_name": "Python 3 (ipykernel)",
   "language": "python",
   "name": "python3"
  },
  "language_info": {
   "codemirror_mode": {
    "name": "ipython",
    "version": 3
   },
   "file_extension": ".py",
   "mimetype": "text/x-python",
   "name": "python",
   "nbconvert_exporter": "python",
   "pygments_lexer": "ipython3",
   "version": "3.7.9"
  }
 },
 "nbformat": 4,
 "nbformat_minor": 5
}
