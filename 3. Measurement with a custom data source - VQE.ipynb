{
 "cells": [
  {
   "cell_type": "markdown",
   "id": "b4b40bca-8978-4e57-aaac-6ed65a8e4481",
   "metadata": {},
   "source": [
    "# Measurement with custom parameters\n",
    "\n",
    "In this demo, I'll show you how to create a measurement without a Station or Instruments. You can create any custom **Parameter** and run a measurement and save the result in a **DataSet**."
   ]
  },
  {
   "cell_type": "code",
   "execution_count": null,
   "id": "441a1f77",
   "metadata": {
    "slideshow": {
     "slide_type": "slide"
    }
   },
   "outputs": [],
   "source": [
    "import qcodes as qc\n",
    "import numpy as np\n",
    "from qcodes.dataset.plotting import plot_dataset\n",
    "from time import time, sleep\n",
    "import tqdm"
   ]
  },
  {
   "cell_type": "code",
   "execution_count": null,
   "id": "a35fbff4",
   "metadata": {
    "slideshow": {
     "slide_type": "slide"
    }
   },
   "outputs": [],
   "source": [
    "import qsharp\n",
    "qsharp.packages.add(\"Microsoft.Quantum.Chemistry\")\n",
    "qsharp.reload()"
   ]
  },
  {
   "cell_type": "markdown",
   "id": "03052f56-db47-4427-85d3-48d9b9d7513b",
   "metadata": {},
   "source": [
    "## Import Q# program\n",
    "\n",
    "Using the Python interoperability, import the Q# program into your namespace."
   ]
  },
  {
   "cell_type": "code",
   "execution_count": null,
   "id": "0d76a26d",
   "metadata": {
    "slideshow": {
     "slide_type": "slide"
    }
   },
   "outputs": [],
   "source": [
    "from Microsoft.Quantum.Samples.Chemistry.SimpleVQE import GetEnergyHydrogenVQE"
   ]
  },
  {
   "cell_type": "markdown",
   "id": "a11891b2-c25d-43db-8f95-12984c7a52cc",
   "metadata": {},
   "source": [
    "## Initialize database\n",
    "\n",
    "Initialize the database and load a new experiment."
   ]
  },
  {
   "cell_type": "code",
   "execution_count": null,
   "id": "4554e72d",
   "metadata": {
    "slideshow": {
     "slide_type": "slide"
    }
   },
   "outputs": [],
   "source": [
    "qc.initialise_or_create_database_at(\"./experiments.db\")\n",
    "exp = qc.load_or_create_experiment(experiment_name='VQE',\n",
    "                                sample_name=\"Q# simulator\")"
   ]
  },
  {
   "cell_type": "code",
   "execution_count": null,
   "id": "f53c5adc-e5cd-4eb2-b776-7eae474696a9",
   "metadata": {},
   "outputs": [],
   "source": [
    "qsharp.__version__"
   ]
  },
  {
   "cell_type": "markdown",
   "id": "e5d99066-b3d4-4a65-b5bd-7152a0cd30a6",
   "metadata": {
    "jp-MarkdownHeadingCollapsed": true,
    "tags": []
   },
   "source": [
    "## Run the experiment\n",
    "\n",
    "You can now go ahead and run the experiment! Use `Measurement.register_custom_parameter` to create custom parameters that don't depend on an **Instrument**."
   ]
  },
  {
   "cell_type": "code",
   "execution_count": null,
   "id": "d121018a",
   "metadata": {},
   "outputs": [],
   "source": [
    "ystart, ystop, ystep = -2., 2., .5\n",
    "zstart, zstop, zstep = -2., 2., .5\n",
    "x = 0.0\n",
    "ydata = np.arange(ystart, ystop+ystep, ystep)\n",
    "zdata = np.arange(zstart, zstop+zstep, zstep)\n",
    "n_samples = 10e3\n",
    "\n",
    "# Create the initial parameters (noting that our single qubit variational form has 3 parameters)\n",
    "meas = qc.Measurement(exp=exp, station=None, name='VQE measurement')\n",
    "meas.register_custom_parameter(\"theta1\")\n",
    "meas.register_custom_parameter(\"theta2\")\n",
    "meas.register_custom_parameter(\"theta3\")\n",
    "meas.register_custom_parameter(\"energy\", setpoints=(\"theta2\", \"theta3\"))\n",
    "meas.write_period = 2 \n",
    "\n",
    "with meas.run() as datasaver:\n",
    "    values = [(x, y, z) for y in ydata for z in zdata]\n",
    "    for theta in tqdm.tqdm(values):\n",
    "        theta1, theta2, theta3 = theta\n",
    "        energy = GetEnergyHydrogenVQE(theta1=theta1, theta2=theta2, theta3=theta3, nSamples=n_samples)\n",
    "        datasaver.add_result(\n",
    "            (\"theta1\", theta1),\n",
    "            (\"theta2\", theta2),\n",
    "            (\"theta3\", theta3),\n",
    "            (\"energy\", energy)        \n",
    "        )\n",
    "        sleep(0.2)\n",
    "    dataset = datasaver.dataset  # convenient to have for plotting"
   ]
  },
  {
   "cell_type": "markdown",
   "id": "347809fb-746f-4a95-a7e0-5a788aebb9f1",
   "metadata": {},
   "source": [
    "## Plot the data\n",
    "\n",
    "Use plot_dataset to plot the data."
   ]
  },
  {
   "cell_type": "code",
   "execution_count": null,
   "id": "b24e4347",
   "metadata": {},
   "outputs": [],
   "source": [
    "plot_dataset(dataset)"
   ]
  },
  {
   "cell_type": "markdown",
   "id": "a65a46bc-8f6f-41ae-9d00-7c01befe3626",
   "metadata": {},
   "source": [
    "## Create a VQE program\n",
    "\n",
    "Create a VQE program that uses scipy for the optimization loop."
   ]
  },
  {
   "cell_type": "code",
   "execution_count": null,
   "id": "5eefa145",
   "metadata": {
    "slideshow": {
     "slide_type": "fragment"
    }
   },
   "outputs": [],
   "source": [
    "from scipy.optimize import minimize\n",
    "\n",
    "def VQE(initial_var_params, n_samples, **kwargs):\n",
    "    \"\"\" Run VQE Optimization to find the optimal energy and the associated variational parameters \"\"\"\n",
    "    \n",
    "    # Create the initial parameters (noting that our single qubit variational form has 3 parameters)\n",
    "    meas = qc.Measurement(exp=exp, station=None, name='VQE measurement')\n",
    "    meas.register_custom_parameter(\"time\")\n",
    "    meas.register_custom_parameter(\"theta1\")\n",
    "    meas.register_custom_parameter(\"theta2\")\n",
    "    meas.register_custom_parameter(\"theta3\")\n",
    "    meas.register_custom_parameter(\"energy\", setpoints=(\"time\",))\n",
    "    meas.write_period = 2 \n",
    "\n",
    "    time_start = time()\n",
    "    \n",
    "    with meas.run() as datasaver:\n",
    "        def get_data(theta, n_samples):\n",
    "            theta1, theta2, theta3 = theta\n",
    "            energy = GetEnergyHydrogenVQE(theta1=theta1, theta2=theta2, theta3=theta3, nSamples=n_samples)\n",
    "            datasaver.add_result(\n",
    "                (\"time\", time() - time_start),\n",
    "                (\"theta1\", theta1),\n",
    "                (\"theta2\", theta2),\n",
    "                (\"theta3\", theta3),\n",
    "                (\"energy\", energy)        \n",
    "            )\n",
    "            return energy\n",
    "\n",
    "        opt_result = minimize(get_data,\n",
    "                              initial_var_params,\n",
    "                              args=(n_samples),\n",
    "                              **kwargs)\n",
    "        dataset = datasaver.dataset  # convenient to have for plotting\n",
    "\n",
    "    return opt_result, dataset"
   ]
  },
  {
   "cell_type": "markdown",
   "id": "072e1f0c-3b26-409b-85a0-471dfed02317",
   "metadata": {},
   "source": [
    "## Run VQE program\n",
    "\n",
    "Run the program. Here we use Nelder-Mead for the optimization."
   ]
  },
  {
   "cell_type": "code",
   "execution_count": null,
   "id": "a36a73d6",
   "metadata": {
    "slideshow": {
     "slide_type": "slide"
    }
   },
   "outputs": [],
   "source": [
    "opt_result, dataset = VQE(initial_var_params=(0.0, -.5, 0.7), n_samples=10000, \n",
    "                          method=\"nelder-mead\",\n",
    "                            options={\n",
    "                              'maxiter': 200,\n",
    "                              'maxfev': None,\n",
    "                              'disp': False,\n",
    "                              'return_all': False,\n",
    "                              'initial_simplex': None,\n",
    "                              'xatol': 0.01,\n",
    "                              'fatol': 0.01,\n",
    "                              'adaptive': False\n",
    "                            })"
   ]
  },
  {
   "cell_type": "markdown",
   "id": "3cf301bf-c858-4cc4-a3f9-a482010bf6f4",
   "metadata": {},
   "source": [
    "## Plot data\n",
    "\n",
    "Again, we can go ahead and plot the data."
   ]
  },
  {
   "cell_type": "code",
   "execution_count": null,
   "id": "9b41638f",
   "metadata": {
    "slideshow": {
     "slide_type": "slide"
    }
   },
   "outputs": [],
   "source": [
    "plot_dataset(dataset)"
   ]
  },
  {
   "cell_type": "markdown",
   "id": "583df61e-9e8c-440c-a672-de9c1fe537f7",
   "metadata": {},
   "source": [
    "## Run VQE program\n",
    "\n",
    "Run the program. Here we use COBYLA for the optimization."
   ]
  },
  {
   "cell_type": "code",
   "execution_count": null,
   "id": "f6e2f02b",
   "metadata": {
    "slideshow": {
     "slide_type": "slide"
    }
   },
   "outputs": [],
   "source": [
    "opt_result, dataset = VQE(\n",
    "    initial_var_params=(0.0, -.5, 0.7),\n",
    "    n_samples=10000,\n",
    "    method=\"COBYLA\",\n",
    "    tol=0.000001,\n",
    "    options={'disp': True, 'maxiter': 200,'rhobeg' : 0.01}\n",
    ")"
   ]
  },
  {
   "cell_type": "code",
   "execution_count": null,
   "id": "db7f9a8c",
   "metadata": {},
   "outputs": [],
   "source": [
    "plot_dataset(dataset)"
   ]
  },
  {
   "cell_type": "markdown",
   "id": "779eceb5-63ad-4b3e-99d0-3ecf384cbc19",
   "metadata": {},
   "source": [
    "## View data in experimental widget"
   ]
  },
  {
   "cell_type": "code",
   "execution_count": null,
   "id": "71c9f34d",
   "metadata": {},
   "outputs": [],
   "source": [
    "from qcodes.interactive_widget import experiments_widget\n",
    "experiments_widget()"
   ]
  },
  {
   "cell_type": "code",
   "execution_count": null,
   "id": "8c851060",
   "metadata": {},
   "outputs": [],
   "source": []
  }
 ],
 "metadata": {
  "kernelspec": {
   "display_name": "Python 3 (ipykernel)",
   "language": "python",
   "name": "python3"
  },
  "language_info": {
   "codemirror_mode": {
    "name": "ipython",
    "version": 3
   },
   "file_extension": ".py",
   "mimetype": "text/x-python",
   "name": "python",
   "nbconvert_exporter": "python",
   "pygments_lexer": "ipython3",
   "version": "3.7.9"
  }
 },
 "nbformat": 4,
 "nbformat_minor": 5
}
